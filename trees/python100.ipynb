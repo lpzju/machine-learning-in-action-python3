{
 "cells": [
  {
   "cell_type": "code",
   "execution_count": 1,
   "id": "25b63a5e",
   "metadata": {},
   "outputs": [],
   "source": [
    "a = {1:'ft',2:'sd'}"
   ]
  },
  {
   "cell_type": "code",
   "execution_count": 2,
   "id": "c4c824c1",
   "metadata": {},
   "outputs": [
    {
     "data": {
      "text/plain": [
       "{1: 'ft', 2: 'sd'}"
      ]
     },
     "execution_count": 2,
     "metadata": {},
     "output_type": "execute_result"
    }
   ],
   "source": [
    "a"
   ]
  },
  {
   "cell_type": "code",
   "execution_count": 3,
   "id": "6c61c1c8",
   "metadata": {},
   "outputs": [
    {
     "name": "stdout",
     "output_type": "stream",
     "text": [
      "1\n",
      "2\n"
     ]
    }
   ],
   "source": [
    "for i in a:\n",
    "    print(i)"
   ]
  },
  {
   "cell_type": "code",
   "execution_count": 4,
   "id": "749aac30",
   "metadata": {
    "scrolled": true
   },
   "outputs": [
    {
     "name": "stdout",
     "output_type": "stream",
     "text": [
      "ft\n",
      "sd\n"
     ]
    }
   ],
   "source": [
    "for key in a:\n",
    "    print(a[key])"
   ]
  },
  {
   "cell_type": "code",
   "execution_count": 10,
   "id": "dc973292",
   "metadata": {
    "scrolled": true
   },
   "outputs": [
    {
     "name": "stdout",
     "output_type": "stream",
     "text": [
      "2为素数\n",
      "3为素数\n",
      "5为素数\n",
      "7为素数\n",
      "11为素数\n",
      "13为素数\n",
      "17为素数\n",
      "19为素数\n",
      "23为素数\n",
      "29为素数\n",
      "31为素数\n",
      "37为素数\n",
      "41为素数\n",
      "43为素数\n",
      "47为素数\n",
      "53为素数\n",
      "59为素数\n",
      "61为素数\n",
      "67为素数\n",
      "71为素数\n",
      "73为素数\n",
      "79为素数\n",
      "83为素数\n",
      "89为素数\n",
      "97为素数\n"
     ]
    }
   ],
   "source": [
    "# 输出100以内的所有素数\n",
    "# 想法：从1到100遍历，假设得到了i=17，那么此时从1到9遍历，如果找到了一个数用17能除尽则跳出循环\n",
    "# 如果找不到这个数，那么把i输出为素数\n",
    "for i in range(2,100):\n",
    "    flag = True\n",
    "    for k in range(2,int(i/2)+1):\n",
    "        if i%k == 0:\n",
    "            flag = False\n",
    "            break\n",
    "    if flag:\n",
    "        print(\"%d为素数\"%i)"
   ]
  },
  {
   "cell_type": "code",
   "execution_count": 11,
   "id": "9b6756aa",
   "metadata": {},
   "outputs": [],
   "source": [
    "for i in range(2,2):\n",
    "    print(i)"
   ]
  },
  {
   "cell_type": "code",
   "execution_count": 13,
   "id": "daafdb96",
   "metadata": {},
   "outputs": [
    {
     "name": "stdout",
     "output_type": "stream",
     "text": [
      "6\n",
      "28\n",
      "496\n",
      "8128\n"
     ]
    }
   ],
   "source": [
    "# 找出10000以内的完美数\n",
    "# 所有的真因子（即除了自身以外的因子）的和（即因子函数）恰好等于它本身\n",
    "# 6（$6=1+2+3$）和28（$28=1+2+4+7+14$）\n",
    "\n",
    "# 思路：从3到10000遍历，如此时找到的数为8，那么把它进行因式分解，用一个列表进行添加。首先是1，1能被8整除，添加\n",
    "# 然后是2，2也可以被整除，添加，最后添加4，不添加8\n",
    "# 然后从列表进行遍历，如果所有数字加和是这个数，那么就输出\n",
    "\n",
    "for i in range(3,10000):\n",
    "    list1 = []\n",
    "    for j in range(1,i):\n",
    "        if i%j == 0:\n",
    "            list1.append(j)\n",
    "    sum = 0\n",
    "    for k in list1:\n",
    "        sum += k\n",
    "    if sum == i:\n",
    "        print(i)"
   ]
  },
  {
   "cell_type": "code",
   "execution_count": 14,
   "id": "6efb17c8",
   "metadata": {},
   "outputs": [],
   "source": [
    "# 生成斐波那契数列的前20个数\n",
    "# 1, 1, 2, 3, 5, 8, 13, 21, 34, 55, 89, 144\n",
    "# 应该写一个迭代函数fn()，如果是0或者1，则返回1，其余则返回fn(n-1)+fn(n-2)\n",
    "def fn(n):\n",
    "    if n == 1 or n == 0:\n",
    "        return 1\n",
    "    else:\n",
    "        return fn(n-1)+fn(n-2)\n",
    "result = fn(20)"
   ]
  },
  {
   "cell_type": "code",
   "execution_count": 15,
   "id": "34370926",
   "metadata": {},
   "outputs": [
    {
     "data": {
      "text/plain": [
       "10946"
      ]
     },
     "execution_count": 15,
     "metadata": {},
     "output_type": "execute_result"
    }
   ],
   "source": [
    "result"
   ]
  },
  {
   "cell_type": "code",
   "execution_count": 16,
   "id": "08838159",
   "metadata": {},
   "outputs": [
    {
     "name": "stdout",
     "output_type": "stream",
     "text": [
      "1\n"
     ]
    }
   ],
   "source": [
    "print(fn(1))"
   ]
  },
  {
   "cell_type": "code",
   "execution_count": 17,
   "id": "f21b02c1",
   "metadata": {},
   "outputs": [
    {
     "name": "stdout",
     "output_type": "stream",
     "text": [
      "2\n"
     ]
    }
   ],
   "source": [
    "print(fn(2))"
   ]
  },
  {
   "cell_type": "code",
   "execution_count": 24,
   "id": "6271d504",
   "metadata": {},
   "outputs": [
    {
     "name": "stdout",
     "output_type": "stream",
     "text": [
      "fn(1):1\n",
      "fn(2):1\n",
      "fn(3):2\n",
      "fn(4):3\n",
      "fn(5):5\n",
      "fn(6):8\n",
      "fn(7):13\n",
      "fn(8):21\n",
      "fn(9):34\n",
      "fn(10):55\n",
      "fn(11):89\n",
      "fn(12):144\n",
      "fn(13):233\n",
      "fn(14):377\n",
      "fn(15):610\n",
      "fn(16):987\n",
      "fn(17):1597\n",
      "fn(18):2584\n",
      "fn(19):4181\n",
      "fn(20):6765\n"
     ]
    }
   ],
   "source": [
    "# 生成斐波那契数列的前20个数\n",
    "# 1, 1, 2, 3, 5, 8, 13, 21, 34, 55, 89, 144\n",
    "# 应该写一个迭代函数fn()，如果是0或者1，则返回1，其余则返回fn(n-1)+fn(n-2)\n",
    "\n",
    "# fn(1)=1,fn(2)=1\n",
    "def fn(n):\n",
    "    if n == 2 or n == 1:\n",
    "        return 1\n",
    "    else:\n",
    "        return fn(n-1)+fn(n-2)\n",
    "    \n",
    "for i in range(1,21):\n",
    "    print(\"fn(%d):%d\"%(i,fn(i)))"
   ]
  },
  {
   "cell_type": "code",
   "execution_count": 19,
   "id": "91146677",
   "metadata": {},
   "outputs": [
    {
     "name": "stdout",
     "output_type": "stream",
     "text": [
      "5\n"
     ]
    }
   ],
   "source": [
    "print(fn(5))"
   ]
  },
  {
   "cell_type": "code",
   "execution_count": 20,
   "id": "3483397d",
   "metadata": {},
   "outputs": [
    {
     "name": "stdout",
     "output_type": "stream",
     "text": [
      "21\n"
     ]
    }
   ],
   "source": [
    "print(fn(8))"
   ]
  },
  {
   "cell_type": "code",
   "execution_count": 23,
   "id": "b1f8f576",
   "metadata": {},
   "outputs": [
    {
     "name": "stdout",
     "output_type": "stream",
     "text": [
      "fn(1):1\n",
      "fn(2):1\n",
      "fn(3):2\n",
      "fn(4):3\n",
      "fn(5):5\n",
      "fn(6):8\n",
      "fn(7):13\n",
      "fn(8):21\n",
      "fn(9):34\n",
      "fn(10):55\n",
      "fn(11):89\n",
      "fn(12):144\n",
      "fn(13):233\n",
      "fn(14):377\n",
      "fn(15):610\n",
      "fn(16):987\n",
      "fn(17):1597\n",
      "fn(18):2584\n",
      "fn(19):4181\n",
      "fn(20):6765\n"
     ]
    }
   ],
   "source": [
    "for i in range(1,21):\n",
    "    print(\"fn(%d):%d\"%(i,fn(i)))"
   ]
  },
  {
   "cell_type": "code",
   "execution_count": 25,
   "id": "a096c222",
   "metadata": {},
   "outputs": [
    {
     "name": "stdout",
     "output_type": "stream",
     "text": [
      "153\n",
      "370\n",
      "371\n",
      "407\n"
     ]
    }
   ],
   "source": [
    "# 寻找水仙数\n",
    "# 描述：水仙数是三位数，每位数的立方和为数本身\n",
    "for i in range(100,1000):\n",
    "    sum1 = 0\n",
    "    k = str(i)\n",
    "    for j in k:\n",
    "        sum1 += int(j)*int(j)*int(j)\n",
    "    if sum1 == i:\n",
    "        print(i)"
   ]
  },
  {
   "cell_type": "code",
   "execution_count": 26,
   "id": "0f852688",
   "metadata": {},
   "outputs": [
    {
     "name": "stdout",
     "output_type": "stream",
     "text": [
      "公鸡为：20\n",
      "母鸡为：0\n",
      "小鸡为：0\n",
      "\n",
      "\n",
      "公鸡为：17\n",
      "母鸡为：5\n",
      "小鸡为：0\n",
      "\n",
      "\n",
      "公鸡为：14\n",
      "母鸡为：10\n",
      "小鸡为：0\n",
      "\n",
      "\n",
      "公鸡为：11\n",
      "母鸡为：15\n",
      "小鸡为：0\n",
      "\n",
      "\n",
      "公鸡为：8\n",
      "母鸡为：20\n",
      "小鸡为：0\n",
      "\n",
      "\n",
      "公鸡为：5\n",
      "母鸡为：25\n",
      "小鸡为：0\n",
      "\n",
      "\n",
      "公鸡为：2\n",
      "母鸡为：30\n",
      "小鸡为：0\n",
      "\n",
      "\n",
      "公鸡为：18\n",
      "母鸡为：3\n",
      "小鸡为：3\n",
      "\n",
      "\n",
      "公鸡为：15\n",
      "母鸡为：8\n",
      "小鸡为：3\n",
      "\n",
      "\n",
      "公鸡为：12\n",
      "母鸡为：13\n",
      "小鸡为：3\n",
      "\n",
      "\n",
      "公鸡为：9\n",
      "母鸡为：18\n",
      "小鸡为：3\n",
      "\n",
      "\n",
      "公鸡为：6\n",
      "母鸡为：23\n",
      "小鸡为：3\n",
      "\n",
      "\n",
      "公鸡为：3\n",
      "母鸡为：28\n",
      "小鸡为：3\n",
      "\n",
      "\n",
      "公鸡为：0\n",
      "母鸡为：33\n",
      "小鸡为：3\n",
      "\n",
      "\n",
      "公鸡为：19\n",
      "母鸡为：1\n",
      "小鸡为：6\n",
      "\n",
      "\n",
      "公鸡为：16\n",
      "母鸡为：6\n",
      "小鸡为：6\n",
      "\n",
      "\n",
      "公鸡为：13\n",
      "母鸡为：11\n",
      "小鸡为：6\n",
      "\n",
      "\n",
      "公鸡为：10\n",
      "母鸡为：16\n",
      "小鸡为：6\n",
      "\n",
      "\n",
      "公鸡为：7\n",
      "母鸡为：21\n",
      "小鸡为：6\n",
      "\n",
      "\n",
      "公鸡为：4\n",
      "母鸡为：26\n",
      "小鸡为：6\n",
      "\n",
      "\n",
      "公鸡为：1\n",
      "母鸡为：31\n",
      "小鸡为：6\n",
      "\n",
      "\n",
      "公鸡为：17\n",
      "母鸡为：4\n",
      "小鸡为：9\n",
      "\n",
      "\n",
      "公鸡为：14\n",
      "母鸡为：9\n",
      "小鸡为：9\n",
      "\n",
      "\n",
      "公鸡为：11\n",
      "母鸡为：14\n",
      "小鸡为：9\n",
      "\n",
      "\n",
      "公鸡为：8\n",
      "母鸡为：19\n",
      "小鸡为：9\n",
      "\n",
      "\n",
      "公鸡为：5\n",
      "母鸡为：24\n",
      "小鸡为：9\n",
      "\n",
      "\n",
      "公鸡为：2\n",
      "母鸡为：29\n",
      "小鸡为：9\n",
      "\n",
      "\n",
      "公鸡为：18\n",
      "母鸡为：2\n",
      "小鸡为：12\n",
      "\n",
      "\n",
      "公鸡为：15\n",
      "母鸡为：7\n",
      "小鸡为：12\n",
      "\n",
      "\n",
      "公鸡为：12\n",
      "母鸡为：12\n",
      "小鸡为：12\n",
      "\n",
      "\n",
      "公鸡为：9\n",
      "母鸡为：17\n",
      "小鸡为：12\n",
      "\n",
      "\n",
      "公鸡为：6\n",
      "母鸡为：22\n",
      "小鸡为：12\n",
      "\n",
      "\n",
      "公鸡为：3\n",
      "母鸡为：27\n",
      "小鸡为：12\n",
      "\n",
      "\n",
      "公鸡为：0\n",
      "母鸡为：32\n",
      "小鸡为：12\n",
      "\n",
      "\n",
      "公鸡为：19\n",
      "母鸡为：0\n",
      "小鸡为：15\n",
      "\n",
      "\n",
      "公鸡为：16\n",
      "母鸡为：5\n",
      "小鸡为：15\n",
      "\n",
      "\n",
      "公鸡为：13\n",
      "母鸡为：10\n",
      "小鸡为：15\n",
      "\n",
      "\n",
      "公鸡为：10\n",
      "母鸡为：15\n",
      "小鸡为：15\n",
      "\n",
      "\n",
      "公鸡为：7\n",
      "母鸡为：20\n",
      "小鸡为：15\n",
      "\n",
      "\n",
      "公鸡为：4\n",
      "母鸡为：25\n",
      "小鸡为：15\n",
      "\n",
      "\n",
      "公鸡为：1\n",
      "母鸡为：30\n",
      "小鸡为：15\n",
      "\n",
      "\n",
      "公鸡为：17\n",
      "母鸡为：3\n",
      "小鸡为：18\n",
      "\n",
      "\n",
      "公鸡为：14\n",
      "母鸡为：8\n",
      "小鸡为：18\n",
      "\n",
      "\n",
      "公鸡为：11\n",
      "母鸡为：13\n",
      "小鸡为：18\n",
      "\n",
      "\n",
      "公鸡为：8\n",
      "母鸡为：18\n",
      "小鸡为：18\n",
      "\n",
      "\n",
      "公鸡为：5\n",
      "母鸡为：23\n",
      "小鸡为：18\n",
      "\n",
      "\n",
      "公鸡为：2\n",
      "母鸡为：28\n",
      "小鸡为：18\n",
      "\n",
      "\n",
      "公鸡为：18\n",
      "母鸡为：1\n",
      "小鸡为：21\n",
      "\n",
      "\n",
      "公鸡为：15\n",
      "母鸡为：6\n",
      "小鸡为：21\n",
      "\n",
      "\n",
      "公鸡为：12\n",
      "母鸡为：11\n",
      "小鸡为：21\n",
      "\n",
      "\n",
      "公鸡为：9\n",
      "母鸡为：16\n",
      "小鸡为：21\n",
      "\n",
      "\n",
      "公鸡为：6\n",
      "母鸡为：21\n",
      "小鸡为：21\n",
      "\n",
      "\n",
      "公鸡为：3\n",
      "母鸡为：26\n",
      "小鸡为：21\n",
      "\n",
      "\n",
      "公鸡为：0\n",
      "母鸡为：31\n",
      "小鸡为：21\n",
      "\n",
      "\n",
      "公鸡为：16\n",
      "母鸡为：4\n",
      "小鸡为：24\n",
      "\n",
      "\n",
      "公鸡为：13\n",
      "母鸡为：9\n",
      "小鸡为：24\n",
      "\n",
      "\n",
      "公鸡为：10\n",
      "母鸡为：14\n",
      "小鸡为：24\n",
      "\n",
      "\n",
      "公鸡为：7\n",
      "母鸡为：19\n",
      "小鸡为：24\n",
      "\n",
      "\n",
      "公鸡为：4\n",
      "母鸡为：24\n",
      "小鸡为：24\n",
      "\n",
      "\n",
      "公鸡为：1\n",
      "母鸡为：29\n",
      "小鸡为：24\n",
      "\n",
      "\n",
      "公鸡为：17\n",
      "母鸡为：2\n",
      "小鸡为：27\n",
      "\n",
      "\n",
      "公鸡为：14\n",
      "母鸡为：7\n",
      "小鸡为：27\n",
      "\n",
      "\n",
      "公鸡为：11\n",
      "母鸡为：12\n",
      "小鸡为：27\n",
      "\n",
      "\n",
      "公鸡为：8\n",
      "母鸡为：17\n",
      "小鸡为：27\n",
      "\n",
      "\n",
      "公鸡为：5\n",
      "母鸡为：22\n",
      "小鸡为：27\n",
      "\n",
      "\n",
      "公鸡为：2\n",
      "母鸡为：27\n",
      "小鸡为：27\n",
      "\n",
      "\n",
      "公鸡为：18\n",
      "母鸡为：0\n",
      "小鸡为：30\n",
      "\n",
      "\n",
      "公鸡为：15\n",
      "母鸡为：5\n",
      "小鸡为：30\n",
      "\n",
      "\n",
      "公鸡为：12\n",
      "母鸡为：10\n",
      "小鸡为：30\n",
      "\n",
      "\n",
      "公鸡为：9\n",
      "母鸡为：15\n",
      "小鸡为：30\n",
      "\n",
      "\n",
      "公鸡为：6\n",
      "母鸡为：20\n",
      "小鸡为：30\n",
      "\n",
      "\n",
      "公鸡为：3\n",
      "母鸡为：25\n",
      "小鸡为：30\n",
      "\n",
      "\n",
      "公鸡为：0\n",
      "母鸡为：30\n",
      "小鸡为：30\n",
      "\n",
      "\n",
      "公鸡为：16\n",
      "母鸡为：3\n",
      "小鸡为：33\n",
      "\n",
      "\n",
      "公鸡为：13\n",
      "母鸡为：8\n",
      "小鸡为：33\n",
      "\n",
      "\n",
      "公鸡为：10\n",
      "母鸡为：13\n",
      "小鸡为：33\n",
      "\n",
      "\n",
      "公鸡为：7\n",
      "母鸡为：18\n",
      "小鸡为：33\n",
      "\n",
      "\n",
      "公鸡为：4\n",
      "母鸡为：23\n",
      "小鸡为：33\n",
      "\n",
      "\n",
      "公鸡为：1\n",
      "母鸡为：28\n",
      "小鸡为：33\n",
      "\n",
      "\n",
      "公鸡为：17\n",
      "母鸡为：1\n",
      "小鸡为：36\n",
      "\n",
      "\n",
      "公鸡为：14\n",
      "母鸡为：6\n",
      "小鸡为：36\n",
      "\n",
      "\n",
      "公鸡为：11\n",
      "母鸡为：11\n",
      "小鸡为：36\n",
      "\n",
      "\n",
      "公鸡为：8\n",
      "母鸡为：16\n",
      "小鸡为：36\n",
      "\n",
      "\n",
      "公鸡为：5\n",
      "母鸡为：21\n",
      "小鸡为：36\n",
      "\n",
      "\n",
      "公鸡为：2\n",
      "母鸡为：26\n",
      "小鸡为：36\n",
      "\n",
      "\n",
      "公鸡为：15\n",
      "母鸡为：4\n",
      "小鸡为：39\n",
      "\n",
      "\n",
      "公鸡为：12\n",
      "母鸡为：9\n",
      "小鸡为：39\n",
      "\n",
      "\n",
      "公鸡为：9\n",
      "母鸡为：14\n",
      "小鸡为：39\n",
      "\n",
      "\n",
      "公鸡为：6\n",
      "母鸡为：19\n",
      "小鸡为：39\n",
      "\n",
      "\n",
      "公鸡为：3\n",
      "母鸡为：24\n",
      "小鸡为：39\n",
      "\n",
      "\n",
      "公鸡为：0\n",
      "母鸡为：29\n",
      "小鸡为：39\n",
      "\n",
      "\n",
      "公鸡为：16\n",
      "母鸡为：2\n",
      "小鸡为：42\n",
      "\n",
      "\n",
      "公鸡为：13\n",
      "母鸡为：7\n",
      "小鸡为：42\n",
      "\n",
      "\n",
      "公鸡为：10\n",
      "母鸡为：12\n",
      "小鸡为：42\n",
      "\n",
      "\n",
      "公鸡为：7\n",
      "母鸡为：17\n",
      "小鸡为：42\n",
      "\n",
      "\n",
      "公鸡为：4\n",
      "母鸡为：22\n",
      "小鸡为：42\n",
      "\n",
      "\n",
      "公鸡为：1\n",
      "母鸡为：27\n",
      "小鸡为：42\n",
      "\n",
      "\n",
      "公鸡为：17\n",
      "母鸡为：0\n",
      "小鸡为：45\n",
      "\n",
      "\n",
      "公鸡为：14\n",
      "母鸡为：5\n",
      "小鸡为：45\n",
      "\n",
      "\n",
      "公鸡为：11\n",
      "母鸡为：10\n",
      "小鸡为：45\n",
      "\n",
      "\n",
      "公鸡为：8\n",
      "母鸡为：15\n",
      "小鸡为：45\n",
      "\n",
      "\n",
      "公鸡为：5\n",
      "母鸡为：20\n",
      "小鸡为：45\n",
      "\n",
      "\n",
      "公鸡为：2\n",
      "母鸡为：25\n",
      "小鸡为：45\n",
      "\n",
      "\n",
      "公鸡为：15\n",
      "母鸡为：3\n",
      "小鸡为：48\n",
      "\n",
      "\n",
      "公鸡为：12\n",
      "母鸡为：8\n",
      "小鸡为：48\n",
      "\n",
      "\n",
      "公鸡为：9\n",
      "母鸡为：13\n",
      "小鸡为：48\n",
      "\n",
      "\n",
      "公鸡为：6\n",
      "母鸡为：18\n",
      "小鸡为：48\n",
      "\n",
      "\n",
      "公鸡为：3\n",
      "母鸡为：23\n",
      "小鸡为：48\n",
      "\n",
      "\n",
      "公鸡为：0\n",
      "母鸡为：28\n",
      "小鸡为：48\n",
      "\n",
      "\n",
      "公鸡为：16\n",
      "母鸡为：1\n",
      "小鸡为：51\n",
      "\n",
      "\n",
      "公鸡为：13\n",
      "母鸡为：6\n",
      "小鸡为：51\n",
      "\n",
      "\n",
      "公鸡为：10\n",
      "母鸡为：11\n",
      "小鸡为：51\n",
      "\n",
      "\n",
      "公鸡为：7\n",
      "母鸡为：16\n",
      "小鸡为：51\n",
      "\n",
      "\n",
      "公鸡为：4\n",
      "母鸡为：21\n",
      "小鸡为：51\n",
      "\n",
      "\n",
      "公鸡为：1\n",
      "母鸡为：26\n",
      "小鸡为：51\n",
      "\n",
      "\n",
      "公鸡为：14\n",
      "母鸡为：4\n",
      "小鸡为：54\n",
      "\n",
      "\n",
      "公鸡为：11\n",
      "母鸡为：9\n",
      "小鸡为：54\n",
      "\n",
      "\n",
      "公鸡为：8\n",
      "母鸡为：14\n",
      "小鸡为：54\n",
      "\n",
      "\n",
      "公鸡为：5\n",
      "母鸡为：19\n",
      "小鸡为：54\n",
      "\n",
      "\n",
      "公鸡为：2\n",
      "母鸡为：24\n",
      "小鸡为：54\n",
      "\n",
      "\n",
      "公鸡为：15\n",
      "母鸡为：2\n",
      "小鸡为：57\n",
      "\n",
      "\n",
      "公鸡为：12\n",
      "母鸡为：7\n",
      "小鸡为：57\n",
      "\n",
      "\n",
      "公鸡为：9\n",
      "母鸡为：12\n",
      "小鸡为：57\n",
      "\n",
      "\n",
      "公鸡为：6\n",
      "母鸡为：17\n",
      "小鸡为：57\n",
      "\n",
      "\n",
      "公鸡为：3\n",
      "母鸡为：22\n",
      "小鸡为：57\n",
      "\n",
      "\n",
      "公鸡为：0\n",
      "母鸡为：27\n",
      "小鸡为：57\n",
      "\n",
      "\n",
      "公鸡为：16\n",
      "母鸡为：0\n",
      "小鸡为：60\n",
      "\n",
      "\n",
      "公鸡为：13\n",
      "母鸡为：5\n",
      "小鸡为：60\n",
      "\n",
      "\n",
      "公鸡为：10\n",
      "母鸡为：10\n",
      "小鸡为：60\n",
      "\n",
      "\n",
      "公鸡为：7\n",
      "母鸡为：15\n",
      "小鸡为：60\n",
      "\n",
      "\n",
      "公鸡为：4\n",
      "母鸡为：20\n",
      "小鸡为：60\n",
      "\n",
      "\n",
      "公鸡为：1\n",
      "母鸡为：25\n",
      "小鸡为：60\n",
      "\n",
      "\n",
      "公鸡为：14\n",
      "母鸡为：3\n",
      "小鸡为：63\n",
      "\n",
      "\n",
      "公鸡为：11\n",
      "母鸡为：8\n",
      "小鸡为：63\n",
      "\n",
      "\n",
      "公鸡为：8\n",
      "母鸡为：13\n",
      "小鸡为：63\n",
      "\n",
      "\n",
      "公鸡为：5\n",
      "母鸡为：18\n",
      "小鸡为：63\n",
      "\n",
      "\n",
      "公鸡为：2\n",
      "母鸡为：23\n",
      "小鸡为：63\n",
      "\n",
      "\n",
      "公鸡为：15\n",
      "母鸡为：1\n",
      "小鸡为：66\n",
      "\n",
      "\n",
      "公鸡为：12\n",
      "母鸡为：6\n",
      "小鸡为：66\n",
      "\n",
      "\n",
      "公鸡为：9\n",
      "母鸡为：11\n",
      "小鸡为：66\n",
      "\n",
      "\n",
      "公鸡为：6\n",
      "母鸡为：16\n",
      "小鸡为：66\n",
      "\n",
      "\n",
      "公鸡为：3\n",
      "母鸡为：21\n",
      "小鸡为：66\n",
      "\n",
      "\n",
      "公鸡为：0\n",
      "母鸡为：26\n",
      "小鸡为：66\n",
      "\n",
      "\n",
      "公鸡为：13\n",
      "母鸡为：4\n",
      "小鸡为：69\n",
      "\n",
      "\n",
      "公鸡为：10\n",
      "母鸡为：9\n",
      "小鸡为：69\n",
      "\n",
      "\n",
      "公鸡为：7\n",
      "母鸡为：14\n",
      "小鸡为：69\n",
      "\n",
      "\n",
      "公鸡为：4\n",
      "母鸡为：19\n",
      "小鸡为：69\n",
      "\n",
      "\n",
      "公鸡为：1\n",
      "母鸡为：24\n",
      "小鸡为：69\n",
      "\n",
      "\n",
      "公鸡为：14\n",
      "母鸡为：2\n",
      "小鸡为：72\n",
      "\n",
      "\n",
      "公鸡为：11\n",
      "母鸡为：7\n",
      "小鸡为：72\n",
      "\n",
      "\n",
      "公鸡为：8\n",
      "母鸡为：12\n",
      "小鸡为：72\n",
      "\n",
      "\n",
      "公鸡为：5\n",
      "母鸡为：17\n",
      "小鸡为：72\n",
      "\n",
      "\n",
      "公鸡为：2\n",
      "母鸡为：22\n",
      "小鸡为：72\n",
      "\n",
      "\n",
      "公鸡为：15\n",
      "母鸡为：0\n",
      "小鸡为：75\n",
      "\n",
      "\n",
      "公鸡为：12\n",
      "母鸡为：5\n",
      "小鸡为：75\n",
      "\n",
      "\n",
      "公鸡为：9\n",
      "母鸡为：10\n",
      "小鸡为：75\n",
      "\n",
      "\n",
      "公鸡为：6\n",
      "母鸡为：15\n",
      "小鸡为：75\n",
      "\n",
      "\n",
      "公鸡为：3\n",
      "母鸡为：20\n",
      "小鸡为：75\n",
      "\n",
      "\n",
      "公鸡为：0\n",
      "母鸡为：25\n",
      "小鸡为：75\n",
      "\n",
      "\n",
      "公鸡为：13\n",
      "母鸡为：3\n",
      "小鸡为：78\n",
      "\n",
      "\n",
      "公鸡为：10\n",
      "母鸡为：8\n",
      "小鸡为：78\n",
      "\n",
      "\n",
      "公鸡为：7\n",
      "母鸡为：13\n",
      "小鸡为：78\n",
      "\n",
      "\n",
      "公鸡为：4\n",
      "母鸡为：18\n",
      "小鸡为：78\n",
      "\n",
      "\n",
      "公鸡为：1\n",
      "母鸡为：23\n",
      "小鸡为：78\n",
      "\n",
      "\n",
      "公鸡为：14\n",
      "母鸡为：1\n",
      "小鸡为：81\n",
      "\n",
      "\n",
      "公鸡为：11\n",
      "母鸡为：6\n",
      "小鸡为：81\n",
      "\n",
      "\n",
      "公鸡为：8\n",
      "母鸡为：11\n",
      "小鸡为：81\n",
      "\n",
      "\n",
      "公鸡为：5\n",
      "母鸡为：16\n",
      "小鸡为：81\n",
      "\n",
      "\n",
      "公鸡为：2\n",
      "母鸡为：21\n",
      "小鸡为：81\n",
      "\n",
      "\n",
      "公鸡为：12\n",
      "母鸡为：4\n",
      "小鸡为：84\n",
      "\n",
      "\n",
      "公鸡为：9\n",
      "母鸡为：9\n",
      "小鸡为：84\n",
      "\n",
      "\n",
      "公鸡为：6\n",
      "母鸡为：14\n",
      "小鸡为：84\n",
      "\n",
      "\n",
      "公鸡为：3\n",
      "母鸡为：19\n",
      "小鸡为：84\n",
      "\n",
      "\n",
      "公鸡为：0\n",
      "母鸡为：24\n",
      "小鸡为：84\n",
      "\n",
      "\n",
      "公鸡为：13\n",
      "母鸡为：2\n",
      "小鸡为：87\n",
      "\n",
      "\n",
      "公鸡为：10\n",
      "母鸡为：7\n",
      "小鸡为：87\n",
      "\n",
      "\n",
      "公鸡为：7\n",
      "母鸡为：12\n",
      "小鸡为：87\n",
      "\n",
      "\n",
      "公鸡为：4\n",
      "母鸡为：17\n",
      "小鸡为：87\n",
      "\n",
      "\n",
      "公鸡为：1\n",
      "母鸡为：22\n",
      "小鸡为：87\n",
      "\n",
      "\n",
      "公鸡为：14\n",
      "母鸡为：0\n",
      "小鸡为：90\n",
      "\n",
      "\n",
      "公鸡为：11\n",
      "母鸡为：5\n",
      "小鸡为：90\n",
      "\n",
      "\n",
      "公鸡为：8\n",
      "母鸡为：10\n",
      "小鸡为：90\n",
      "\n",
      "\n",
      "公鸡为：5\n",
      "母鸡为：15\n",
      "小鸡为：90\n",
      "\n",
      "\n",
      "公鸡为：2\n",
      "母鸡为：20\n",
      "小鸡为：90\n",
      "\n",
      "\n",
      "公鸡为：12\n",
      "母鸡为：3\n",
      "小鸡为：93\n",
      "\n",
      "\n",
      "公鸡为：9\n",
      "母鸡为：8\n",
      "小鸡为：93\n",
      "\n",
      "\n",
      "公鸡为：6\n",
      "母鸡为：13\n",
      "小鸡为：93\n",
      "\n",
      "\n",
      "公鸡为：3\n",
      "母鸡为：18\n",
      "小鸡为：93\n",
      "\n",
      "\n",
      "公鸡为：0\n",
      "母鸡为：23\n",
      "小鸡为：93\n",
      "\n",
      "\n",
      "公鸡为：13\n",
      "母鸡为：1\n",
      "小鸡为：96\n",
      "\n",
      "\n",
      "公鸡为：10\n",
      "母鸡为：6\n",
      "小鸡为：96\n",
      "\n",
      "\n",
      "公鸡为：7\n",
      "母鸡为：11\n",
      "小鸡为：96\n",
      "\n",
      "\n",
      "公鸡为：4\n",
      "母鸡为：16\n",
      "小鸡为：96\n",
      "\n",
      "\n",
      "公鸡为：1\n",
      "母鸡为：21\n",
      "小鸡为：96\n",
      "\n",
      "\n",
      "公鸡为：11\n",
      "母鸡为：4\n",
      "小鸡为：99\n",
      "\n",
      "\n",
      "公鸡为：8\n",
      "母鸡为：9\n",
      "小鸡为：99\n",
      "\n",
      "\n",
      "公鸡为：5\n",
      "母鸡为：14\n",
      "小鸡为：99\n",
      "\n",
      "\n",
      "公鸡为：2\n",
      "母鸡为：19\n",
      "小鸡为：99\n",
      "\n",
      "\n"
     ]
    }
   ],
   "source": [
    "# 公鸡5元一只，母鸡3元一只，小鸡1元三只，用100块钱买一百只鸡，问公鸡、母鸡、小鸡各有多少只？\n",
    "for little in range(101):\n",
    "    for f in range(34):\n",
    "        for m in range(21):\n",
    "            if m*5+f*3+little/3 == 100:\n",
    "                print(\"公鸡为：%d\\n母鸡为：%d\\n小鸡为：%d\"%(m,f,little))\n",
    "                print(\"\\n\")"
   ]
  },
  {
   "cell_type": "code",
   "execution_count": 1,
   "id": "2b05579a",
   "metadata": {},
   "outputs": [
    {
     "name": "stdout",
     "output_type": "stream",
     "text": [
      "6\n",
      "15\n",
      "0\n",
      "1\n",
      "3\n",
      "6\n",
      "350\n"
     ]
    }
   ],
   "source": [
    "from random import randint\n",
    "\n",
    "\n",
    "def roll_dice(n=2):\n",
    "    \"\"\"摇色子\"\"\"\n",
    "    total = 0\n",
    "    for _ in range(n):\n",
    "        total += randint(1, 6)\n",
    "    return total\n",
    "\n",
    "\n",
    "def add(a=0, b=0, c=0):\n",
    "    \"\"\"三个数相加\"\"\"\n",
    "    return a + b + c\n",
    "\n",
    "\n",
    "# 如果没有指定参数那么使用默认值摇两颗色子\n",
    "print(roll_dice())\n",
    "# 摇三颗色子\n",
    "print(roll_dice(3))\n",
    "print(add())\n",
    "print(add(1))\n",
    "print(add(1, 2))\n",
    "print(add(1, 2, 3))\n",
    "# 传递参数时可以不按照设定的顺序进行传递\n",
    "print(add(c=50, a=100, b=200))"
   ]
  },
  {
   "cell_type": "code",
   "execution_count": 2,
   "id": "9e7cdc58",
   "metadata": {},
   "outputs": [],
   "source": [
    "# 实现计算求最大公约数和最小公倍数的函数\n",
    "def gongbeishu(m,n):\n",
    "    num = 0\n",
    "    total = 1\n",
    "    if m>n:\n",
    "        num = n\n",
    "    else:\n",
    "        num = m\n",
    "    while num>=1:\n",
    "        if m%num == 0 and n%num == 0:\n",
    "            total = num\n",
    "            break\n",
    "        else:\n",
    "            num -= 1\n",
    "    print(total)"
   ]
  },
  {
   "cell_type": "code",
   "execution_count": 3,
   "id": "b40e89fd",
   "metadata": {},
   "outputs": [
    {
     "name": "stdout",
     "output_type": "stream",
     "text": [
      "2\n"
     ]
    }
   ],
   "source": [
    "gongbeishu(6,4)"
   ]
  },
  {
   "cell_type": "code",
   "execution_count": 4,
   "id": "65e8a485",
   "metadata": {},
   "outputs": [
    {
     "name": "stdout",
     "output_type": "stream",
     "text": [
      "5\n"
     ]
    }
   ],
   "source": [
    "gongbeishu(5,25)"
   ]
  },
  {
   "cell_type": "code",
   "execution_count": 5,
   "id": "2dacdd84",
   "metadata": {},
   "outputs": [
    {
     "name": "stdout",
     "output_type": "stream",
     "text": [
      "12\n"
     ]
    }
   ],
   "source": [
    "gongbeishu(36,48)"
   ]
  },
  {
   "cell_type": "code",
   "execution_count": 6,
   "id": "b569b332",
   "metadata": {},
   "outputs": [],
   "source": [
    "def gongyueshu(m,n):\n",
    "    num = 0\n",
    "    total = 1\n",
    "    if m>n:\n",
    "        num = n\n",
    "    else:\n",
    "        num = m\n",
    "    while num>=1:\n",
    "        if m%num == 0 and n%num == 0:\n",
    "            total = num\n",
    "            break\n",
    "        else:\n",
    "            num -= 1\n",
    "    print(total)"
   ]
  },
  {
   "cell_type": "code",
   "execution_count": 15,
   "id": "c7ec9321",
   "metadata": {},
   "outputs": [],
   "source": [
    "def gongbeishu(m,n):\n",
    "    num = m\n",
    "    while num%n!=0 or num%m!=0:\n",
    "        num += 1\n",
    "    print(num)"
   ]
  },
  {
   "cell_type": "code",
   "execution_count": 18,
   "id": "eb28e980",
   "metadata": {},
   "outputs": [
    {
     "name": "stdout",
     "output_type": "stream",
     "text": [
      "36\n"
     ]
    }
   ],
   "source": [
    "gongbeishu(4,9)"
   ]
  },
  {
   "cell_type": "code",
   "execution_count": 19,
   "id": "fc00ec0f",
   "metadata": {},
   "outputs": [
    {
     "data": {
      "text/plain": [
       "0"
      ]
     },
     "execution_count": 19,
     "metadata": {},
     "output_type": "execute_result"
    }
   ],
   "source": [
    "# 实现判断一个数是不是回文数的函数\n",
    "# 给定一个数，获得各位置的数字\n",
    "# 如743，当743//10不为0，首先743%10获得3，然后743//10获得74，然后均存在列表中\n",
    "7//10    "
   ]
  },
  {
   "cell_type": "code",
   "execution_count": 20,
   "id": "65951a34",
   "metadata": {},
   "outputs": [
    {
     "data": {
      "text/plain": [
       "8"
      ]
     },
     "execution_count": 20,
     "metadata": {},
     "output_type": "execute_result"
    }
   ],
   "source": [
    "43//5"
   ]
  },
  {
   "cell_type": "code",
   "execution_count": 21,
   "id": "c70edd9c",
   "metadata": {},
   "outputs": [
    {
     "data": {
      "text/plain": [
       "1"
      ]
     },
     "execution_count": 21,
     "metadata": {},
     "output_type": "execute_result"
    }
   ],
   "source": [
    "6//5"
   ]
  },
  {
   "cell_type": "code",
   "execution_count": 22,
   "id": "0c762457",
   "metadata": {},
   "outputs": [
    {
     "data": {
      "text/plain": [
       "74"
      ]
     },
     "execution_count": 22,
     "metadata": {},
     "output_type": "execute_result"
    }
   ],
   "source": [
    "743//10"
   ]
  },
  {
   "cell_type": "code",
   "execution_count": 26,
   "id": "e1b82409",
   "metadata": {},
   "outputs": [],
   "source": [
    "# 实现判断一个数是不是回文数的函数\n",
    "# 给定一个数，获得各位置的数字\n",
    "# 如743，当743//10不为0，首先743%10获得3，然后743//10获得74，然后均存在列表中\n",
    "def huiwen(n):\n",
    "    flag = True\n",
    "    list1 = []\n",
    "    while True:\n",
    "        list1.append(n%10)\n",
    "        n = n//10\n",
    "        if n == 0:\n",
    "            break\n",
    "    for i in range(len(list1)):\n",
    "        if list1[i] != list1[len(list1)-i-1]:\n",
    "            flag = False\n",
    "            break\n",
    "    print(flag)"
   ]
  },
  {
   "cell_type": "code",
   "execution_count": 27,
   "id": "89fa6f90",
   "metadata": {},
   "outputs": [
    {
     "name": "stdout",
     "output_type": "stream",
     "text": [
      "False\n"
     ]
    }
   ],
   "source": [
    "huiwen(743)"
   ]
  },
  {
   "cell_type": "code",
   "execution_count": 28,
   "id": "bf46b761",
   "metadata": {},
   "outputs": [
    {
     "name": "stdout",
     "output_type": "stream",
     "text": [
      "True\n"
     ]
    }
   ],
   "source": [
    "huiwen(727)"
   ]
  },
  {
   "cell_type": "code",
   "execution_count": 29,
   "id": "2b5f7e18",
   "metadata": {},
   "outputs": [
    {
     "name": "stdout",
     "output_type": "stream",
     "text": [
      "True\n"
     ]
    }
   ],
   "source": [
    "huiwen(5)"
   ]
  },
  {
   "cell_type": "code",
   "execution_count": 30,
   "id": "c457ecd0",
   "metadata": {},
   "outputs": [
    {
     "name": "stdout",
     "output_type": "stream",
     "text": [
      "True\n"
     ]
    }
   ],
   "source": [
    "huiwen(777)"
   ]
  },
  {
   "cell_type": "code",
   "execution_count": 31,
   "id": "f3dae30c",
   "metadata": {},
   "outputs": [],
   "source": [
    "def foo():\n",
    "    b = 'hello'\n",
    "\n",
    "    # Python中可以在函数内部再定义函数\n",
    "    def bar():\n",
    "        c = True\n",
    "        print(a)\n",
    "        print(b)\n",
    "        print(c)\n",
    "\n",
    "    bar()\n",
    "    # print(c)  # NameError: name 'c' is not defined"
   ]
  },
  {
   "cell_type": "code",
   "execution_count": 32,
   "id": "0ac9471f",
   "metadata": {},
   "outputs": [
    {
     "name": "stdout",
     "output_type": "stream",
     "text": [
      "100\n",
      "hello\n",
      "True\n"
     ]
    }
   ],
   "source": [
    "if __name__ == '__main__':\n",
    "    a = 100\n",
    "    # print(b)  # NameError: name 'b' is not defined\n",
    "    foo()"
   ]
  },
  {
   "cell_type": "code",
   "execution_count": 35,
   "id": "98b7229d",
   "metadata": {},
   "outputs": [
    {
     "ename": "NameError",
     "evalue": "name 'b' is not defined",
     "output_type": "error",
     "traceback": [
      "\u001b[1;31m---------------------------------------------------------------------------\u001b[0m",
      "\u001b[1;31mNameError\u001b[0m                                 Traceback (most recent call last)",
      "\u001b[1;32m~\\AppData\\Local\\Temp/ipykernel_16564/3625167437.py\u001b[0m in \u001b[0;36m<module>\u001b[1;34m\u001b[0m\n\u001b[0;32m     15\u001b[0m \u001b[1;32mif\u001b[0m \u001b[0m__name__\u001b[0m \u001b[1;33m==\u001b[0m \u001b[1;34m'__main__'\u001b[0m\u001b[1;33m:\u001b[0m\u001b[1;33m\u001b[0m\u001b[1;33m\u001b[0m\u001b[0m\n\u001b[0;32m     16\u001b[0m     \u001b[0ma\u001b[0m \u001b[1;33m=\u001b[0m \u001b[1;36m100\u001b[0m\u001b[1;33m\u001b[0m\u001b[1;33m\u001b[0m\u001b[0m\n\u001b[1;32m---> 17\u001b[1;33m     \u001b[0mprint\u001b[0m\u001b[1;33m(\u001b[0m\u001b[0mb\u001b[0m\u001b[1;33m)\u001b[0m  \u001b[1;31m# NameError: name 'b' is not defined\u001b[0m\u001b[1;33m\u001b[0m\u001b[1;33m\u001b[0m\u001b[0m\n\u001b[0m\u001b[0;32m     18\u001b[0m     \u001b[0mfoo\u001b[0m\u001b[1;33m(\u001b[0m\u001b[1;33m)\u001b[0m\u001b[1;33m\u001b[0m\u001b[1;33m\u001b[0m\u001b[0m\n",
      "\u001b[1;31mNameError\u001b[0m: name 'b' is not defined"
     ]
    }
   ],
   "source": [
    "def foo():\n",
    "    b = 'hello'\n",
    "\n",
    "    # Python中可以在函数内部再定义函数\n",
    "    def bar():\n",
    "        c = True\n",
    "        print(a)\n",
    "        print(b)\n",
    "        print(c)\n",
    "\n",
    "    bar()\n",
    "#     print(c)  # NameError: name 'c' is not defined\n",
    "\n",
    "\n",
    "if __name__ == '__main__':\n",
    "    a = 100\n",
    "    print(b)  # NameError: name 'b' is not defined\n",
    "    foo()"
   ]
  },
  {
   "cell_type": "code",
   "execution_count": 36,
   "id": "2f727887",
   "metadata": {},
   "outputs": [
    {
     "name": "stdout",
     "output_type": "stream",
     "text": [
      "abcabc 骆昊\n"
     ]
    }
   ],
   "source": [
    "s1 = '\\141\\142\\143\\x61\\x62\\x63'\n",
    "s2 = '\\u9a86\\u660a'\n",
    "print(s1, s2)"
   ]
  },
  {
   "cell_type": "code",
   "execution_count": 37,
   "id": "3df28060",
   "metadata": {},
   "outputs": [
    {
     "name": "stdout",
     "output_type": "stream",
     "text": [
      "\\'hello, world!\\' \\n\\\\hello, world!\\\\\\n"
     ]
    }
   ],
   "source": [
    "s1 = r'\\'hello, world!\\''\n",
    "s2 = r'\\n\\\\hello, world!\\\\\\n'\n",
    "print(s1, s2, end='')"
   ]
  },
  {
   "cell_type": "code",
   "execution_count": 38,
   "id": "ad8c2e3b",
   "metadata": {},
   "outputs": [
    {
     "name": "stdout",
     "output_type": "stream",
     "text": [
      "5 * 10 = 50\n"
     ]
    }
   ],
   "source": [
    "a, b = 5, 10\n",
    "print('{0} * {1} = {2}'.format(a, b, a * b))"
   ]
  },
  {
   "cell_type": "code",
   "execution_count": 39,
   "id": "6b60a1a3",
   "metadata": {},
   "outputs": [
    {
     "ename": "SyntaxError",
     "evalue": "expression cannot contain assignment, perhaps you meant \"==\"? (Temp/ipykernel_16564/4100981349.py, line 2)",
     "output_type": "error",
     "traceback": [
      "\u001b[1;36m  File \u001b[1;32m\"C:\\Users\\liupeng\\AppData\\Local\\Temp/ipykernel_16564/4100981349.py\"\u001b[1;36m, line \u001b[1;32m2\u001b[0m\n\u001b[1;33m    print('{0} * {1} = {2}'.format({0}=a, b, a * b))\u001b[0m\n\u001b[1;37m                                   ^\u001b[0m\n\u001b[1;31mSyntaxError\u001b[0m\u001b[1;31m:\u001b[0m expression cannot contain assignment, perhaps you meant \"==\"?\n"
     ]
    }
   ],
   "source": [
    "a, b = 5, 10\n",
    "print('{0} * {1} = {2}'.format({0}=a, b, a * b))"
   ]
  },
  {
   "cell_type": "code",
   "execution_count": 42,
   "id": "b3f6c5c1",
   "metadata": {},
   "outputs": [
    {
     "name": "stdout",
     "output_type": "stream",
     "text": [
      "5 * 10 = 50\n"
     ]
    }
   ],
   "source": [
    "a, b = 5, 10\n",
    "print('{x} * {y} = {z}'.format(x=a, y=b, z=a * b))"
   ]
  },
  {
   "cell_type": "code",
   "execution_count": 43,
   "id": "f660dedb",
   "metadata": {},
   "outputs": [
    {
     "name": "stdout",
     "output_type": "stream",
     "text": [
      "0 1\n",
      "1 3\n",
      "2 5\n",
      "3 7\n",
      "4 100\n"
     ]
    }
   ],
   "source": [
    "list1 = [1, 3, 5, 7, 100]\n",
    "for index, elem in enumerate(list1):\n",
    "    print(index, elem)"
   ]
  },
  {
   "cell_type": "code",
   "execution_count": 44,
   "id": "6805947c",
   "metadata": {},
   "outputs": [
    {
     "name": "stdout",
     "output_type": "stream",
     "text": [
      "(0, 1)\n",
      "(1, 3)\n",
      "(2, 5)\n",
      "(3, 7)\n",
      "(4, 100)\n"
     ]
    }
   ],
   "source": [
    "list1 = [1, 3, 5, 7, 100]\n",
    "for kkk in enumerate(list1):\n",
    "    print(kkk)"
   ]
  },
  {
   "cell_type": "code",
   "execution_count": 45,
   "id": "7138d89f",
   "metadata": {},
   "outputs": [],
   "source": [
    "list1 = [1, 3, 5, 7, 100]\n",
    "# 添加元素"
   ]
  },
  {
   "cell_type": "code",
   "execution_count": 46,
   "id": "a85a9e0a",
   "metadata": {},
   "outputs": [
    {
     "data": {
      "text/plain": [
       "[1, 3, 5, 7, 100]"
      ]
     },
     "execution_count": 46,
     "metadata": {},
     "output_type": "execute_result"
    }
   ],
   "source": [
    "list1"
   ]
  },
  {
   "cell_type": "code",
   "execution_count": 47,
   "id": "8b5eb2e7",
   "metadata": {},
   "outputs": [],
   "source": [
    "list1.append(200)"
   ]
  },
  {
   "cell_type": "code",
   "execution_count": 48,
   "id": "52853dd7",
   "metadata": {},
   "outputs": [
    {
     "data": {
      "text/plain": [
       "[1, 3, 5, 7, 100, 200]"
      ]
     },
     "execution_count": 48,
     "metadata": {},
     "output_type": "execute_result"
    }
   ],
   "source": [
    "list1"
   ]
  },
  {
   "cell_type": "code",
   "execution_count": 49,
   "id": "3e342f29",
   "metadata": {},
   "outputs": [
    {
     "data": {
      "text/plain": [
       "[1, 400, 3, 5, 7, 100, 200]"
      ]
     },
     "execution_count": 49,
     "metadata": {},
     "output_type": "execute_result"
    }
   ],
   "source": [
    "list1.insert(1, 400)\n",
    "list1"
   ]
  },
  {
   "cell_type": "code",
   "execution_count": 50,
   "id": "022a3ed1",
   "metadata": {},
   "outputs": [],
   "source": [
    "list1 = ['orange', 'apple', 'zoo', 'internationalization', 'blueberry']"
   ]
  },
  {
   "cell_type": "code",
   "execution_count": 53,
   "id": "607e8045",
   "metadata": {},
   "outputs": [],
   "source": [
    "list4 = sorted(list1, key=len,reverse=True)"
   ]
  },
  {
   "cell_type": "code",
   "execution_count": 54,
   "id": "81b9cc4d",
   "metadata": {},
   "outputs": [
    {
     "data": {
      "text/plain": [
       "['internationalization', 'blueberry', 'orange', 'apple', 'zoo']"
      ]
     },
     "execution_count": 54,
     "metadata": {},
     "output_type": "execute_result"
    }
   ],
   "source": [
    "list4"
   ]
  },
  {
   "cell_type": "code",
   "execution_count": 57,
   "id": "2e100f09",
   "metadata": {},
   "outputs": [
    {
     "name": "stdout",
     "output_type": "stream",
     "text": [
      "9016\n",
      "[1, 4, 9, 16, 25, 36, 49, 64, 81, 100, 121, 144, 169, 196, 225, 256, 289, 324, 361, 400, 441, 484, 529, 576, 625, 676, 729, 784, 841, 900, 961, 1024, 1089, 1156, 1225, 1296, 1369, 1444, 1521, 1600, 1681, 1764, 1849, 1936, 2025, 2116, 2209, 2304, 2401, 2500, 2601, 2704, 2809, 2916, 3025, 3136, 3249, 3364, 3481, 3600, 3721, 3844, 3969, 4096, 4225, 4356, 4489, 4624, 4761, 4900, 5041, 5184, 5329, 5476, 5625, 5776, 5929, 6084, 6241, 6400, 6561, 6724, 6889, 7056, 7225, 7396, 7569, 7744, 7921, 8100, 8281, 8464, 8649, 8836, 9025, 9216, 9409, 9604, 9801, 10000, 10201, 10404, 10609, 10816, 11025, 11236, 11449, 11664, 11881, 12100, 12321, 12544, 12769, 12996, 13225, 13456, 13689, 13924, 14161, 14400, 14641, 14884, 15129, 15376, 15625, 15876, 16129, 16384, 16641, 16900, 17161, 17424, 17689, 17956, 18225, 18496, 18769, 19044, 19321, 19600, 19881, 20164, 20449, 20736, 21025, 21316, 21609, 21904, 22201, 22500, 22801, 23104, 23409, 23716, 24025, 24336, 24649, 24964, 25281, 25600, 25921, 26244, 26569, 26896, 27225, 27556, 27889, 28224, 28561, 28900, 29241, 29584, 29929, 30276, 30625, 30976, 31329, 31684, 32041, 32400, 32761, 33124, 33489, 33856, 34225, 34596, 34969, 35344, 35721, 36100, 36481, 36864, 37249, 37636, 38025, 38416, 38809, 39204, 39601, 40000, 40401, 40804, 41209, 41616, 42025, 42436, 42849, 43264, 43681, 44100, 44521, 44944, 45369, 45796, 46225, 46656, 47089, 47524, 47961, 48400, 48841, 49284, 49729, 50176, 50625, 51076, 51529, 51984, 52441, 52900, 53361, 53824, 54289, 54756, 55225, 55696, 56169, 56644, 57121, 57600, 58081, 58564, 59049, 59536, 60025, 60516, 61009, 61504, 62001, 62500, 63001, 63504, 64009, 64516, 65025, 65536, 66049, 66564, 67081, 67600, 68121, 68644, 69169, 69696, 70225, 70756, 71289, 71824, 72361, 72900, 73441, 73984, 74529, 75076, 75625, 76176, 76729, 77284, 77841, 78400, 78961, 79524, 80089, 80656, 81225, 81796, 82369, 82944, 83521, 84100, 84681, 85264, 85849, 86436, 87025, 87616, 88209, 88804, 89401, 90000, 90601, 91204, 91809, 92416, 93025, 93636, 94249, 94864, 95481, 96100, 96721, 97344, 97969, 98596, 99225, 99856, 100489, 101124, 101761, 102400, 103041, 103684, 104329, 104976, 105625, 106276, 106929, 107584, 108241, 108900, 109561, 110224, 110889, 111556, 112225, 112896, 113569, 114244, 114921, 115600, 116281, 116964, 117649, 118336, 119025, 119716, 120409, 121104, 121801, 122500, 123201, 123904, 124609, 125316, 126025, 126736, 127449, 128164, 128881, 129600, 130321, 131044, 131769, 132496, 133225, 133956, 134689, 135424, 136161, 136900, 137641, 138384, 139129, 139876, 140625, 141376, 142129, 142884, 143641, 144400, 145161, 145924, 146689, 147456, 148225, 148996, 149769, 150544, 151321, 152100, 152881, 153664, 154449, 155236, 156025, 156816, 157609, 158404, 159201, 160000, 160801, 161604, 162409, 163216, 164025, 164836, 165649, 166464, 167281, 168100, 168921, 169744, 170569, 171396, 172225, 173056, 173889, 174724, 175561, 176400, 177241, 178084, 178929, 179776, 180625, 181476, 182329, 183184, 184041, 184900, 185761, 186624, 187489, 188356, 189225, 190096, 190969, 191844, 192721, 193600, 194481, 195364, 196249, 197136, 198025, 198916, 199809, 200704, 201601, 202500, 203401, 204304, 205209, 206116, 207025, 207936, 208849, 209764, 210681, 211600, 212521, 213444, 214369, 215296, 216225, 217156, 218089, 219024, 219961, 220900, 221841, 222784, 223729, 224676, 225625, 226576, 227529, 228484, 229441, 230400, 231361, 232324, 233289, 234256, 235225, 236196, 237169, 238144, 239121, 240100, 241081, 242064, 243049, 244036, 245025, 246016, 247009, 248004, 249001, 250000, 251001, 252004, 253009, 254016, 255025, 256036, 257049, 258064, 259081, 260100, 261121, 262144, 263169, 264196, 265225, 266256, 267289, 268324, 269361, 270400, 271441, 272484, 273529, 274576, 275625, 276676, 277729, 278784, 279841, 280900, 281961, 283024, 284089, 285156, 286225, 287296, 288369, 289444, 290521, 291600, 292681, 293764, 294849, 295936, 297025, 298116, 299209, 300304, 301401, 302500, 303601, 304704, 305809, 306916, 308025, 309136, 310249, 311364, 312481, 313600, 314721, 315844, 316969, 318096, 319225, 320356, 321489, 322624, 323761, 324900, 326041, 327184, 328329, 329476, 330625, 331776, 332929, 334084, 335241, 336400, 337561, 338724, 339889, 341056, 342225, 343396, 344569, 345744, 346921, 348100, 349281, 350464, 351649, 352836, 354025, 355216, 356409, 357604, 358801, 360000, 361201, 362404, 363609, 364816, 366025, 367236, 368449, 369664, 370881, 372100, 373321, 374544, 375769, 376996, 378225, 379456, 380689, 381924, 383161, 384400, 385641, 386884, 388129, 389376, 390625, 391876, 393129, 394384, 395641, 396900, 398161, 399424, 400689, 401956, 403225, 404496, 405769, 407044, 408321, 409600, 410881, 412164, 413449, 414736, 416025, 417316, 418609, 419904, 421201, 422500, 423801, 425104, 426409, 427716, 429025, 430336, 431649, 432964, 434281, 435600, 436921, 438244, 439569, 440896, 442225, 443556, 444889, 446224, 447561, 448900, 450241, 451584, 452929, 454276, 455625, 456976, 458329, 459684, 461041, 462400, 463761, 465124, 466489, 467856, 469225, 470596, 471969, 473344, 474721, 476100, 477481, 478864, 480249, 481636, 483025, 484416, 485809, 487204, 488601, 490000, 491401, 492804, 494209, 495616, 497025, 498436, 499849, 501264, 502681, 504100, 505521, 506944, 508369, 509796, 511225, 512656, 514089, 515524, 516961, 518400, 519841, 521284, 522729, 524176, 525625, 527076, 528529, 529984, 531441, 532900, 534361, 535824, 537289, 538756, 540225, 541696, 543169, 544644, 546121, 547600, 549081, 550564, 552049, 553536, 555025, 556516, 558009, 559504, 561001, 562500, 564001, 565504, 567009, 568516, 570025, 571536, 573049, 574564, 576081, 577600, 579121, 580644, 582169, 583696, 585225, 586756, 588289, 589824, 591361, 592900, 594441, 595984, 597529, 599076, 600625, 602176, 603729, 605284, 606841, 608400, 609961, 611524, 613089, 614656, 616225, 617796, 619369, 620944, 622521, 624100, 625681, 627264, 628849, 630436, 632025, 633616, 635209, 636804, 638401, 640000, 641601, 643204, 644809, 646416, 648025, 649636, 651249, 652864, 654481, 656100, 657721, 659344, 660969, 662596, 664225, 665856, 667489, 669124, 670761, 672400, 674041, 675684, 677329, 678976, 680625, 682276, 683929, 685584, 687241, 688900, 690561, 692224, 693889, 695556, 697225, 698896, 700569, 702244, 703921, 705600, 707281, 708964, 710649, 712336, 714025, 715716, 717409, 719104, 720801, 722500, 724201, 725904, 727609, 729316, 731025, 732736, 734449, 736164, 737881, 739600, 741321, 743044, 744769, 746496, 748225, 749956, 751689, 753424, 755161, 756900, 758641, 760384, 762129, 763876, 765625, 767376, 769129, 770884, 772641, 774400, 776161, 777924, 779689, 781456, 783225, 784996, 786769, 788544, 790321, 792100, 793881, 795664, 797449, 799236, 801025, 802816, 804609, 806404, 808201, 810000, 811801, 813604, 815409, 817216, 819025, 820836, 822649, 824464, 826281, 828100, 829921, 831744, 833569, 835396, 837225, 839056, 840889, 842724, 844561, 846400, 848241, 850084, 851929, 853776, 855625, 857476, 859329, 861184, 863041, 864900, 866761, 868624, 870489, 872356, 874225, 876096, 877969, 879844, 881721, 883600, 885481, 887364, 889249, 891136, 893025, 894916, 896809, 898704, 900601, 902500, 904401, 906304, 908209, 910116, 912025, 913936, 915849, 917764, 919681, 921600, 923521, 925444, 927369, 929296, 931225, 933156, 935089, 937024, 938961, 940900, 942841, 944784, 946729, 948676, 950625, 952576, 954529, 956484, 958441, 960400, 962361, 964324, 966289, 968256, 970225, 972196, 974169, 976144, 978121, 980100, 982081, 984064, 986049, 988036, 990025, 992016, 994009, 996004, 998001]\n"
     ]
    }
   ],
   "source": [
    "from os import sys\n",
    "f = [x ** 2 for x in range(1, 1000)]\n",
    "print(sys.getsizeof(f))  # 查看对象占用内存的字节数\n",
    "print(f)"
   ]
  },
  {
   "cell_type": "code",
   "execution_count": 58,
   "id": "d72f8219",
   "metadata": {},
   "outputs": [
    {
     "name": "stdout",
     "output_type": "stream",
     "text": [
      "112\n",
      "<generator object <genexpr> at 0x0000022E6BCF6AC0>\n"
     ]
    }
   ],
   "source": [
    "f = (x ** 2 for x in range(1, 1000))\n",
    "print(sys.getsizeof(f))  # 相比生成式生成器不占用存储数据的空间\n",
    "print(f)"
   ]
  },
  {
   "cell_type": "code",
   "execution_count": 1,
   "id": "8db87533",
   "metadata": {},
   "outputs": [],
   "source": [
    "\n",
    "def foo():\n",
    "    print(\"starting...\")\n",
    "    while True:\n",
    "        res = yield 4\n",
    "        print(\"res:\",res)\n"
   ]
  },
  {
   "cell_type": "code",
   "execution_count": 2,
   "id": "d900beb6",
   "metadata": {},
   "outputs": [],
   "source": [
    "\n",
    "g = foo()"
   ]
  },
  {
   "cell_type": "code",
   "execution_count": 3,
   "id": "eef7f38b",
   "metadata": {},
   "outputs": [
    {
     "name": "stdout",
     "output_type": "stream",
     "text": [
      "starting...\n",
      "4\n"
     ]
    }
   ],
   "source": [
    "\n",
    "print(next(g))"
   ]
  },
  {
   "cell_type": "code",
   "execution_count": 4,
   "id": "eb035d79",
   "metadata": {},
   "outputs": [
    {
     "name": "stdout",
     "output_type": "stream",
     "text": [
      "res: None\n",
      "4\n"
     ]
    }
   ],
   "source": [
    "\n",
    "print(next(g))"
   ]
  },
  {
   "cell_type": "code",
   "execution_count": 5,
   "id": "4786f8c3",
   "metadata": {},
   "outputs": [],
   "source": [
    "def foo():\n",
    "    print(\"starting...\")\n",
    "    while True:\n",
    "        res = yield 4\n",
    "        print(\"res:\",res)\n",
    "g = foo()"
   ]
  },
  {
   "cell_type": "code",
   "execution_count": 6,
   "id": "38f1f2f9",
   "metadata": {},
   "outputs": [
    {
     "data": {
      "text/plain": [
       "<generator object foo at 0x0000022D2D6B50B0>"
      ]
     },
     "execution_count": 6,
     "metadata": {},
     "output_type": "execute_result"
    }
   ],
   "source": [
    "g"
   ]
  },
  {
   "cell_type": "code",
   "execution_count": 7,
   "id": "ccc7f962",
   "metadata": {},
   "outputs": [
    {
     "name": "stdout",
     "output_type": "stream",
     "text": [
      "<generator object foo at 0x0000022D2D6B50B0>\n"
     ]
    }
   ],
   "source": [
    "print(g)"
   ]
  },
  {
   "cell_type": "code",
   "execution_count": 8,
   "id": "a813ceff",
   "metadata": {},
   "outputs": [
    {
     "name": "stdout",
     "output_type": "stream",
     "text": [
      "starting...\n"
     ]
    }
   ],
   "source": [
    "def fooo():\n",
    "    print(\"starting...\")\n",
    "gg = fooo()"
   ]
  },
  {
   "cell_type": "code",
   "execution_count": 9,
   "id": "57779233",
   "metadata": {},
   "outputs": [],
   "source": [
    "gg"
   ]
  },
  {
   "cell_type": "code",
   "execution_count": 10,
   "id": "55378a2b",
   "metadata": {},
   "outputs": [
    {
     "name": "stdout",
     "output_type": "stream",
     "text": [
      "None\n"
     ]
    }
   ],
   "source": [
    "print(gg)"
   ]
  },
  {
   "cell_type": "code",
   "execution_count": 13,
   "id": "c0494dd6",
   "metadata": {},
   "outputs": [
    {
     "name": "stdout",
     "output_type": "stream",
     "text": [
      "starting...\n",
      "4\n",
      "********************\n",
      "res: None\n",
      "4\n",
      "res: None\n",
      "4\n"
     ]
    }
   ],
   "source": [
    "\n",
    "def foo():\n",
    "    print(\"starting...\")\n",
    "    while True:\n",
    "        res = yield 4\n",
    "        print(\"res:\",res)\n",
    "g = foo()\n",
    "print(next(g))\n",
    "print(\"*\"*20)\n",
    "print(next(g))\n",
    "print(next(g))"
   ]
  },
  {
   "cell_type": "code",
   "execution_count": 12,
   "id": "48d94175",
   "metadata": {},
   "outputs": [
    {
     "name": "stdout",
     "output_type": "stream",
     "text": [
      "res: None\n",
      "4\n"
     ]
    }
   ],
   "source": [
    "print(next(g))"
   ]
  },
  {
   "cell_type": "code",
   "execution_count": 18,
   "id": "5b7fcc5c",
   "metadata": {},
   "outputs": [
    {
     "name": "stdout",
     "output_type": "stream",
     "text": [
      "(1, 1)\n",
      "(1, 2)\n",
      "(2, 3)\n",
      "(3, 5)\n",
      "(5, 8)\n",
      "(8, 13)\n",
      "(13, 21)\n",
      "(21, 34)\n",
      "(34, 55)\n",
      "(55, 89)\n",
      "(89, 144)\n",
      "(144, 233)\n",
      "(233, 377)\n",
      "(377, 610)\n",
      "(610, 987)\n",
      "(987, 1597)\n",
      "(1597, 2584)\n",
      "(2584, 4181)\n",
      "(4181, 6765)\n",
      "(6765, 10946)\n"
     ]
    }
   ],
   "source": [
    "def fib(n):\n",
    "    a, b = 0, 1\n",
    "    for _ in range(n):\n",
    "        a, b = b, a + b\n",
    "        yield a,b\n",
    "\n",
    "\n",
    "def main():\n",
    "    for val in fib(20):\n",
    "        print(val)\n",
    "\n",
    "\n",
    "if __name__ == '__main__':\n",
    "    main()"
   ]
  },
  {
   "cell_type": "code",
   "execution_count": 19,
   "id": "fbc5fc29",
   "metadata": {},
   "outputs": [],
   "source": [
    "def foo():\n",
    "    res = yield 4\n",
    "g = foo()"
   ]
  },
  {
   "cell_type": "code",
   "execution_count": 20,
   "id": "3ed6965c",
   "metadata": {},
   "outputs": [
    {
     "name": "stdout",
     "output_type": "stream",
     "text": [
      "<generator object foo at 0x0000022D2D6B5120>\n"
     ]
    }
   ],
   "source": [
    "print(g)"
   ]
  },
  {
   "cell_type": "code",
   "execution_count": 21,
   "id": "4d120847",
   "metadata": {},
   "outputs": [
    {
     "name": "stdout",
     "output_type": "stream",
     "text": [
      "4\n"
     ]
    }
   ],
   "source": [
    "print(next(g))"
   ]
  },
  {
   "cell_type": "code",
   "execution_count": 22,
   "id": "1fcfcc3e",
   "metadata": {},
   "outputs": [
    {
     "ename": "StopIteration",
     "evalue": "",
     "output_type": "error",
     "traceback": [
      "\u001b[1;31m---------------------------------------------------------------------------\u001b[0m",
      "\u001b[1;31mStopIteration\u001b[0m                             Traceback (most recent call last)",
      "\u001b[1;32m~\\AppData\\Local\\Temp/ipykernel_11620/2604396719.py\u001b[0m in \u001b[0;36m<module>\u001b[1;34m\u001b[0m\n\u001b[1;32m----> 1\u001b[1;33m \u001b[0mprint\u001b[0m\u001b[1;33m(\u001b[0m\u001b[0mnext\u001b[0m\u001b[1;33m(\u001b[0m\u001b[0mg\u001b[0m\u001b[1;33m)\u001b[0m\u001b[1;33m)\u001b[0m\u001b[1;33m\u001b[0m\u001b[1;33m\u001b[0m\u001b[0m\n\u001b[0m",
      "\u001b[1;31mStopIteration\u001b[0m: "
     ]
    }
   ],
   "source": [
    "print(next(g))"
   ]
  },
  {
   "cell_type": "code",
   "execution_count": 23,
   "id": "6707aa79",
   "metadata": {},
   "outputs": [],
   "source": [
    "def foo():\n",
    "    res = yield 4\n",
    "g = foo()"
   ]
  },
  {
   "cell_type": "code",
   "execution_count": 24,
   "id": "5e7c82e0",
   "metadata": {},
   "outputs": [
    {
     "ename": "AttributeError",
     "evalue": "'generator' object has no attribute 'res'",
     "output_type": "error",
     "traceback": [
      "\u001b[1;31m---------------------------------------------------------------------------\u001b[0m",
      "\u001b[1;31mAttributeError\u001b[0m                            Traceback (most recent call last)",
      "\u001b[1;32m~\\AppData\\Local\\Temp/ipykernel_11620/2969967645.py\u001b[0m in \u001b[0;36m<module>\u001b[1;34m\u001b[0m\n\u001b[1;32m----> 1\u001b[1;33m \u001b[0mg\u001b[0m\u001b[1;33m.\u001b[0m\u001b[0mres\u001b[0m\u001b[1;33m\u001b[0m\u001b[1;33m\u001b[0m\u001b[0m\n\u001b[0m",
      "\u001b[1;31mAttributeError\u001b[0m: 'generator' object has no attribute 'res'"
     ]
    }
   ],
   "source": [
    "g.res"
   ]
  },
  {
   "cell_type": "code",
   "execution_count": 25,
   "id": "45316453",
   "metadata": {},
   "outputs": [
    {
     "ename": "AttributeError",
     "evalue": "'generator' object has no attribute 'size'",
     "output_type": "error",
     "traceback": [
      "\u001b[1;31m---------------------------------------------------------------------------\u001b[0m",
      "\u001b[1;31mAttributeError\u001b[0m                            Traceback (most recent call last)",
      "\u001b[1;32m~\\AppData\\Local\\Temp/ipykernel_11620/3391104012.py\u001b[0m in \u001b[0;36m<module>\u001b[1;34m\u001b[0m\n\u001b[1;32m----> 1\u001b[1;33m \u001b[0mprint\u001b[0m\u001b[1;33m(\u001b[0m\u001b[0mg\u001b[0m\u001b[1;33m.\u001b[0m\u001b[0msize\u001b[0m\u001b[1;33m)\u001b[0m\u001b[1;33m\u001b[0m\u001b[1;33m\u001b[0m\u001b[0m\n\u001b[0m",
      "\u001b[1;31mAttributeError\u001b[0m: 'generator' object has no attribute 'size'"
     ]
    }
   ],
   "source": [
    "print(g.size)"
   ]
  },
  {
   "cell_type": "code",
   "execution_count": 26,
   "id": "9332ce7a",
   "metadata": {},
   "outputs": [
    {
     "ename": "TypeError",
     "evalue": "object of type 'generator' has no len()",
     "output_type": "error",
     "traceback": [
      "\u001b[1;31m---------------------------------------------------------------------------\u001b[0m",
      "\u001b[1;31mTypeError\u001b[0m                                 Traceback (most recent call last)",
      "\u001b[1;32m~\\AppData\\Local\\Temp/ipykernel_11620/2886454080.py\u001b[0m in \u001b[0;36m<module>\u001b[1;34m\u001b[0m\n\u001b[1;32m----> 1\u001b[1;33m \u001b[0mprint\u001b[0m\u001b[1;33m(\u001b[0m\u001b[0mlen\u001b[0m\u001b[1;33m(\u001b[0m\u001b[0mg\u001b[0m\u001b[1;33m)\u001b[0m\u001b[1;33m)\u001b[0m\u001b[1;33m\u001b[0m\u001b[1;33m\u001b[0m\u001b[0m\n\u001b[0m",
      "\u001b[1;31mTypeError\u001b[0m: object of type 'generator' has no len()"
     ]
    }
   ],
   "source": [
    "print(len(g))"
   ]
  },
  {
   "cell_type": "code",
   "execution_count": 27,
   "id": "44c52942",
   "metadata": {},
   "outputs": [],
   "source": [
    "def foo():\n",
    "    res = yield 4\n",
    "g = foo()"
   ]
  },
  {
   "cell_type": "code",
   "execution_count": 28,
   "id": "9e8695f1",
   "metadata": {},
   "outputs": [
    {
     "name": "stdout",
     "output_type": "stream",
     "text": [
      "4\n"
     ]
    }
   ],
   "source": [
    "print(next(g))"
   ]
  },
  {
   "cell_type": "code",
   "execution_count": 29,
   "id": "648ef131",
   "metadata": {},
   "outputs": [
    {
     "ename": "StopIteration",
     "evalue": "",
     "output_type": "error",
     "traceback": [
      "\u001b[1;31m---------------------------------------------------------------------------\u001b[0m",
      "\u001b[1;31mStopIteration\u001b[0m                             Traceback (most recent call last)",
      "\u001b[1;32m~\\AppData\\Local\\Temp/ipykernel_11620/2604396719.py\u001b[0m in \u001b[0;36m<module>\u001b[1;34m\u001b[0m\n\u001b[1;32m----> 1\u001b[1;33m \u001b[0mprint\u001b[0m\u001b[1;33m(\u001b[0m\u001b[0mnext\u001b[0m\u001b[1;33m(\u001b[0m\u001b[0mg\u001b[0m\u001b[1;33m)\u001b[0m\u001b[1;33m)\u001b[0m\u001b[1;33m\u001b[0m\u001b[1;33m\u001b[0m\u001b[0m\n\u001b[0m",
      "\u001b[1;31mStopIteration\u001b[0m: "
     ]
    }
   ],
   "source": [
    "print(next(g))"
   ]
  },
  {
   "cell_type": "code",
   "execution_count": 30,
   "id": "add9aedf",
   "metadata": {},
   "outputs": [],
   "source": [
    "set1 = {1, 2, 3, 3, 3, 2}"
   ]
  },
  {
   "cell_type": "code",
   "execution_count": 31,
   "id": "6ed29dce",
   "metadata": {},
   "outputs": [],
   "source": [
    "set2 = set(range(1, 10))\n",
    "set3 = set((1, 2, 3, 3, 2, 1))"
   ]
  },
  {
   "cell_type": "code",
   "execution_count": 32,
   "id": "1ff22413",
   "metadata": {},
   "outputs": [],
   "source": [
    "set1.add(4)\n",
    "set1.add(5)\n",
    "set2.update([11, 12])\n",
    "set2.discard(5)"
   ]
  },
  {
   "cell_type": "code",
   "execution_count": 33,
   "id": "cd11a52a",
   "metadata": {},
   "outputs": [
    {
     "data": {
      "text/plain": [
       "{1, 2, 3, 4, 5}"
      ]
     },
     "execution_count": 33,
     "metadata": {},
     "output_type": "execute_result"
    }
   ],
   "source": [
    "set1"
   ]
  },
  {
   "cell_type": "code",
   "execution_count": 34,
   "id": "7efe14ca",
   "metadata": {},
   "outputs": [
    {
     "data": {
      "text/plain": [
       "{1, 2, 3, 4, 6, 7, 8, 9, 11, 12}"
      ]
     },
     "execution_count": 34,
     "metadata": {},
     "output_type": "execute_result"
    }
   ],
   "source": [
    "set2"
   ]
  },
  {
   "cell_type": "code",
   "execution_count": 35,
   "id": "6048514c",
   "metadata": {},
   "outputs": [
    {
     "name": "stdout",
     "output_type": "stream",
     "text": [
      "starting...\n",
      "1\n",
      "2\n",
      "3\n",
      "4\n",
      "5\n",
      "6\n",
      "7\n",
      "8\n",
      "9\n",
      "10\n"
     ]
    }
   ],
   "source": [
    "def foo(num):\n",
    "    print(\"starting...\")\n",
    "    while num<10:\n",
    "        num=num+1\n",
    "        yield num\n",
    "for n in foo(0):\n",
    "    print(n)"
   ]
  },
  {
   "cell_type": "code",
   "execution_count": 36,
   "id": "c6f79bb5",
   "metadata": {},
   "outputs": [
    {
     "name": "stdout",
     "output_type": "stream",
     "text": [
      "{1, 2, 3}\n",
      "Length = 3\n",
      "{1, 2, 3, 4, 5, 6, 7, 8, 9} {1, 2, 3}\n"
     ]
    }
   ],
   "source": [
    "# 创建集合的字面量语法\n",
    "set1 = {1, 2, 3, 3, 3, 2}\n",
    "print(set1)\n",
    "print('Length =', len(set1))\n",
    "# 创建集合的构造器语法(面向对象部分会进行详细讲解)\n",
    "set2 = set(range(1, 10))\n",
    "set3 = set((1, 2, 3, 3, 2, 1))\n",
    "print(set2, set3)"
   ]
  },
  {
   "cell_type": "code",
   "execution_count": 37,
   "id": "a571bc35",
   "metadata": {},
   "outputs": [],
   "source": [
    "items2 = dict(zip(['a', 'b', 'c'], '123'))"
   ]
  },
  {
   "cell_type": "code",
   "execution_count": 38,
   "id": "8c2c6063",
   "metadata": {},
   "outputs": [
    {
     "ename": "NameError",
     "evalue": "name 'items' is not defined",
     "output_type": "error",
     "traceback": [
      "\u001b[1;31m---------------------------------------------------------------------------\u001b[0m",
      "\u001b[1;31mNameError\u001b[0m                                 Traceback (most recent call last)",
      "\u001b[1;32m~\\AppData\\Local\\Temp/ipykernel_11620/689556449.py\u001b[0m in \u001b[0;36m<module>\u001b[1;34m\u001b[0m\n\u001b[1;32m----> 1\u001b[1;33m \u001b[0mitems\u001b[0m\u001b[1;33m\u001b[0m\u001b[1;33m\u001b[0m\u001b[0m\n\u001b[0m",
      "\u001b[1;31mNameError\u001b[0m: name 'items' is not defined"
     ]
    }
   ],
   "source": [
    "items"
   ]
  },
  {
   "cell_type": "code",
   "execution_count": 39,
   "id": "9c556209",
   "metadata": {},
   "outputs": [
    {
     "data": {
      "text/plain": [
       "{'a': '1', 'b': '2', 'c': '3'}"
      ]
     },
     "execution_count": 39,
     "metadata": {},
     "output_type": "execute_result"
    }
   ],
   "source": [
    "items2"
   ]
  },
  {
   "cell_type": "code",
   "execution_count": 40,
   "id": "7d33ca55",
   "metadata": {},
   "outputs": [],
   "source": [
    "items2 = dict(zip(['a', 'b', 'c'], [1,2,3]))"
   ]
  },
  {
   "cell_type": "code",
   "execution_count": 41,
   "id": "bc3bf78a",
   "metadata": {},
   "outputs": [
    {
     "data": {
      "text/plain": [
       "{'a': 1, 'b': 2, 'c': 3}"
      ]
     },
     "execution_count": 41,
     "metadata": {},
     "output_type": "execute_result"
    }
   ],
   "source": [
    "items2"
   ]
  },
  {
   "cell_type": "code",
   "execution_count": 42,
   "id": "a95dca78",
   "metadata": {},
   "outputs": [],
   "source": [
    "items2 = zip(['a', 'b', 'c'], [1,2,3])"
   ]
  },
  {
   "cell_type": "code",
   "execution_count": 43,
   "id": "96377c80",
   "metadata": {},
   "outputs": [
    {
     "data": {
      "text/plain": [
       "<zip at 0x22d2d7b6d80>"
      ]
     },
     "execution_count": 43,
     "metadata": {},
     "output_type": "execute_result"
    }
   ],
   "source": [
    "items2"
   ]
  },
  {
   "cell_type": "code",
   "execution_count": 1,
   "id": "1057f254",
   "metadata": {},
   "outputs": [],
   "source": [
    "a=b=c=68"
   ]
  },
  {
   "cell_type": "code",
   "execution_count": 2,
   "id": "4c8dc5a9",
   "metadata": {},
   "outputs": [
    {
     "data": {
      "text/plain": [
       "68"
      ]
     },
     "execution_count": 2,
     "metadata": {},
     "output_type": "execute_result"
    }
   ],
   "source": [
    "a"
   ]
  },
  {
   "cell_type": "code",
   "execution_count": 3,
   "id": "336ed7dc",
   "metadata": {},
   "outputs": [
    {
     "data": {
      "text/plain": [
       "68"
      ]
     },
     "execution_count": 3,
     "metadata": {},
     "output_type": "execute_result"
    }
   ],
   "source": [
    "b"
   ]
  },
  {
   "cell_type": "code",
   "execution_count": 4,
   "id": "41b1ce58",
   "metadata": {},
   "outputs": [
    {
     "data": {
      "text/plain": [
       "68"
      ]
     },
     "execution_count": 4,
     "metadata": {},
     "output_type": "execute_result"
    }
   ],
   "source": [
    "c"
   ]
  },
  {
   "cell_type": "code",
   "execution_count": 5,
   "id": "0d397217",
   "metadata": {},
   "outputs": [],
   "source": [
    "a,b = 3,5"
   ]
  },
  {
   "cell_type": "code",
   "execution_count": 6,
   "id": "5010e70a",
   "metadata": {},
   "outputs": [
    {
     "data": {
      "text/plain": [
       "3"
      ]
     },
     "execution_count": 6,
     "metadata": {},
     "output_type": "execute_result"
    }
   ],
   "source": [
    "a"
   ]
  },
  {
   "cell_type": "code",
   "execution_count": 7,
   "id": "992771dc",
   "metadata": {},
   "outputs": [],
   "source": [
    "a,b = (3,4)"
   ]
  },
  {
   "cell_type": "code",
   "execution_count": 8,
   "id": "aea6b117",
   "metadata": {},
   "outputs": [
    {
     "data": {
      "text/plain": [
       "3"
      ]
     },
     "execution_count": 8,
     "metadata": {},
     "output_type": "execute_result"
    }
   ],
   "source": [
    "a"
   ]
  },
  {
   "cell_type": "code",
   "execution_count": null,
   "id": "da1f00c9",
   "metadata": {},
   "outputs": [],
   "source": []
  }
 ],
 "metadata": {
  "kernelspec": {
   "display_name": "Python [conda env:tensorflow]",
   "language": "python",
   "name": "conda-env-tensorflow-py"
  },
  "language_info": {
   "codemirror_mode": {
    "name": "ipython",
    "version": 3
   },
   "file_extension": ".py",
   "mimetype": "text/x-python",
   "name": "python",
   "nbconvert_exporter": "python",
   "pygments_lexer": "ipython3",
   "version": "3.8.8"
  }
 },
 "nbformat": 4,
 "nbformat_minor": 5
}
